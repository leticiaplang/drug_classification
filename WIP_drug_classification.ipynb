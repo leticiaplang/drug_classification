{
  "nbformat": 4,
  "nbformat_minor": 0,
  "metadata": {
    "colab": {
      "name": "WIP - Desafio_Drug.ipynb",
      "provenance": [],
      "collapsed_sections": [
        "X57brnLsJ0In",
        "IljSzioAJ9tg",
        "yEkNXvERLYQg",
        "dA5OfjWTLvqr",
        "erYt0X2dMDls",
        "MYa5g5wct0HT",
        "yWaUsG2np7v-",
        "L8hFckAn0RuD",
        "LC5jRoA7qD9T",
        "bQswJUb7NzvA",
        "YGeSUqT0SqJE",
        "gVzY7FcA8RWK",
        "My89m3V6CjAO",
        "J2yRqh7RWB1P",
        "tRAw76oboIcT",
        "r7oOmqWqvv90",
        "S6qkCt9avzXh",
        "BufW6vf45AX9",
        "-6SYhSiZzRjG",
        "-3pXK9ZRx7ep",
        "tkL_pviV3tIo",
        "eaSQqSfScmJe",
        "V8MTzeX7cpnx",
        "Of9wRIUOcr_8",
        "8oTIcnzm0a4N",
        "87Ask_Fm0ptU",
        "Mwe2PfLm1If9",
        "p8LMdrfA0iER",
        "mC0P1CMInVR5",
        "zpbC22EWVqwC"
      ],
      "toc_visible": true,
      "include_colab_link": true
    },
    "kernelspec": {
      "name": "python3",
      "display_name": "Python 3"
    },
    "language_info": {
      "name": "python"
    }
  },
  "cells": [
    {
      "cell_type": "markdown",
      "metadata": {
        "id": "view-in-github",
        "colab_type": "text"
      },
      "source": [
        "<a href=\"https://colab.research.google.com/github/leticiaplang/drug_classification/blob/main/WIP_drug_classification.ipynb\" target=\"_parent\"><img src=\"https://colab.research.google.com/assets/colab-badge.svg\" alt=\"Open In Colab\"/></a>"
      ]
    },
    {
      "cell_type": "markdown",
      "source": [
        "# Dataset\n",
        "\n",
        "* It has 600 rows and 6 columns\n",
        "* The target feature is Drug type (a, b, c, x, y)\n",
        "* The feature sets are: \n",
        "\n",
        "    Age: 15 - 74 years\n",
        "\n",
        "    Sex: F(female), M(male)\n",
        "\n",
        "    Blood Pressure Levels (BP): normal, low, high\n",
        "\n",
        "    Cholesterol Levels: normal, high \n",
        "    * Blood exam\n",
        "\n",
        "  Na to Potassium Ratio: 6.269 - 38.247\n",
        "  * Urinary exam | A high ratio is an indicator of a higher Na intake and a lower K intake.\n",
        "\n",
        "* The goal is predict wich drug will be used based on features. Studies show positive association with blood pressure.\n",
        "\n",
        "[Kaggle Dataset](https://www.kaggle.com/prathamtripathi/drug-classification)"
      ],
      "metadata": {
        "id": "w931RJqhlcRn"
      }
    },
    {
      "cell_type": "markdown",
      "source": [
        "## Preparing the notebook"
      ],
      "metadata": {
        "id": "bkBjfCrOJavM"
      }
    },
    {
      "cell_type": "code",
      "source": [
        "# install\n",
        "! pip install imbalanced-learn"
      ],
      "metadata": {
        "colab": {
          "base_uri": "https://localhost:8080/"
        },
        "id": "pNyzTzBuBKrG",
        "outputId": "c4704825-6d33-4138-f9b4-d9b1e5f924e3"
      },
      "execution_count": null,
      "outputs": [
        {
          "output_type": "stream",
          "name": "stdout",
          "text": [
            "Requirement already satisfied: imbalanced-learn in /usr/local/lib/python3.7/dist-packages (0.8.1)\n",
            "Requirement already satisfied: scikit-learn>=0.24 in /usr/local/lib/python3.7/dist-packages (from imbalanced-learn) (1.0.2)\n",
            "Requirement already satisfied: scipy>=0.19.1 in /usr/local/lib/python3.7/dist-packages (from imbalanced-learn) (1.4.1)\n",
            "Requirement already satisfied: joblib>=0.11 in /usr/local/lib/python3.7/dist-packages (from imbalanced-learn) (1.1.0)\n",
            "Requirement already satisfied: numpy>=1.13.3 in /usr/local/lib/python3.7/dist-packages (from imbalanced-learn) (1.19.5)\n",
            "Requirement already satisfied: threadpoolctl>=2.0.0 in /usr/local/lib/python3.7/dist-packages (from scikit-learn>=0.24->imbalanced-learn) (3.0.0)\n"
          ]
        }
      ]
    },
    {
      "cell_type": "code",
      "execution_count": null,
      "metadata": {
        "id": "wNrclAzCkwfw"
      },
      "outputs": [],
      "source": [
        "# Imports\n",
        "import seaborn as sns\n",
        "import pandas as pd\n",
        "import numpy as np\n",
        "import matplotlib.pyplot as plt\n",
        "import seaborn as sns\n",
        "\n",
        "from sklearn.preprocessing import OneHotEncoder\n",
        "from sklearn.model_selection import train_test_split\n",
        "from sklearn.preprocessing import RobustScaler\n",
        "from imblearn.over_sampling import RandomOverSampler\n",
        "from imblearn.over_sampling import SMOTE\n",
        "from scipy import stats\n",
        "\n",
        "from sklearn.dummy import DummyClassifier\n",
        "from sklearn.linear_model import LogisticRegression\n",
        "from sklearn.tree import DecisionTreeClassifier\n",
        "from sklearn.ensemble import RandomForestClassifier\n",
        "from sklearn.neighbors import KNeighborsClassifier\n",
        "\n",
        "from sklearn.metrics import accuracy_score, recall_score, f1_score, precision_score\n",
        "from sklearn.metrics import roc_curve, roc_auc_score, plot_confusion_matrix"
      ]
    },
    {
      "cell_type": "code",
      "source": [
        "# Versions\n",
        "#print(imblearn.__version__)"
      ],
      "metadata": {
        "id": "N7Cyj4PC33Yj"
      },
      "execution_count": null,
      "outputs": []
    },
    {
      "cell_type": "code",
      "source": [
        "# Acessing the document by google drive\n",
        "from google.colab import drive\n",
        "drive.mount('/content/drive')"
      ],
      "metadata": {
        "colab": {
          "base_uri": "https://localhost:8080/"
        },
        "id": "AyK6i9lLq_yd",
        "outputId": "55e4984a-31f8-4352-981e-d0dc0d3bac70"
      },
      "execution_count": null,
      "outputs": [
        {
          "output_type": "stream",
          "name": "stdout",
          "text": [
            "Drive already mounted at /content/drive; to attempt to forcibly remount, call drive.mount(\"/content/drive\", force_remount=True).\n"
          ]
        }
      ]
    },
    {
      "cell_type": "code",
      "source": [
        "# Creatibg the dataframe\n",
        "df = pd.read_csv('drive/MyDrive/a/drug200.csv', sep = ',')"
      ],
      "metadata": {
        "id": "nZIw0mphnrPA"
      },
      "execution_count": null,
      "outputs": []
    },
    {
      "cell_type": "code",
      "source": [
        "# Checking the DF\n",
        "df.head()"
      ],
      "metadata": {
        "colab": {
          "base_uri": "https://localhost:8080/",
          "height": 204
        },
        "id": "PXqdVzzon_ZL",
        "outputId": "b0008dff-76a8-4fdd-ffcc-b7df46cface5"
      },
      "execution_count": null,
      "outputs": [
        {
          "output_type": "execute_result",
          "data": {
            "text/html": [
              "\n",
              "  <div id=\"df-c9552525-c63b-4011-b483-0a1addc661ee\">\n",
              "    <div class=\"colab-df-container\">\n",
              "      <div>\n",
              "<style scoped>\n",
              "    .dataframe tbody tr th:only-of-type {\n",
              "        vertical-align: middle;\n",
              "    }\n",
              "\n",
              "    .dataframe tbody tr th {\n",
              "        vertical-align: top;\n",
              "    }\n",
              "\n",
              "    .dataframe thead th {\n",
              "        text-align: right;\n",
              "    }\n",
              "</style>\n",
              "<table border=\"1\" class=\"dataframe\">\n",
              "  <thead>\n",
              "    <tr style=\"text-align: right;\">\n",
              "      <th></th>\n",
              "      <th>Age</th>\n",
              "      <th>Sex</th>\n",
              "      <th>BP</th>\n",
              "      <th>Cholesterol</th>\n",
              "      <th>Na_to_K</th>\n",
              "      <th>Drug</th>\n",
              "    </tr>\n",
              "  </thead>\n",
              "  <tbody>\n",
              "    <tr>\n",
              "      <th>0</th>\n",
              "      <td>23</td>\n",
              "      <td>F</td>\n",
              "      <td>HIGH</td>\n",
              "      <td>HIGH</td>\n",
              "      <td>25.355</td>\n",
              "      <td>DrugY</td>\n",
              "    </tr>\n",
              "    <tr>\n",
              "      <th>1</th>\n",
              "      <td>47</td>\n",
              "      <td>M</td>\n",
              "      <td>LOW</td>\n",
              "      <td>HIGH</td>\n",
              "      <td>13.093</td>\n",
              "      <td>drugC</td>\n",
              "    </tr>\n",
              "    <tr>\n",
              "      <th>2</th>\n",
              "      <td>47</td>\n",
              "      <td>M</td>\n",
              "      <td>LOW</td>\n",
              "      <td>HIGH</td>\n",
              "      <td>10.114</td>\n",
              "      <td>drugC</td>\n",
              "    </tr>\n",
              "    <tr>\n",
              "      <th>3</th>\n",
              "      <td>28</td>\n",
              "      <td>F</td>\n",
              "      <td>NORMAL</td>\n",
              "      <td>HIGH</td>\n",
              "      <td>7.798</td>\n",
              "      <td>drugX</td>\n",
              "    </tr>\n",
              "    <tr>\n",
              "      <th>4</th>\n",
              "      <td>61</td>\n",
              "      <td>F</td>\n",
              "      <td>LOW</td>\n",
              "      <td>HIGH</td>\n",
              "      <td>18.043</td>\n",
              "      <td>DrugY</td>\n",
              "    </tr>\n",
              "  </tbody>\n",
              "</table>\n",
              "</div>\n",
              "      <button class=\"colab-df-convert\" onclick=\"convertToInteractive('df-c9552525-c63b-4011-b483-0a1addc661ee')\"\n",
              "              title=\"Convert this dataframe to an interactive table.\"\n",
              "              style=\"display:none;\">\n",
              "        \n",
              "  <svg xmlns=\"http://www.w3.org/2000/svg\" height=\"24px\"viewBox=\"0 0 24 24\"\n",
              "       width=\"24px\">\n",
              "    <path d=\"M0 0h24v24H0V0z\" fill=\"none\"/>\n",
              "    <path d=\"M18.56 5.44l.94 2.06.94-2.06 2.06-.94-2.06-.94-.94-2.06-.94 2.06-2.06.94zm-11 1L8.5 8.5l.94-2.06 2.06-.94-2.06-.94L8.5 2.5l-.94 2.06-2.06.94zm10 10l.94 2.06.94-2.06 2.06-.94-2.06-.94-.94-2.06-.94 2.06-2.06.94z\"/><path d=\"M17.41 7.96l-1.37-1.37c-.4-.4-.92-.59-1.43-.59-.52 0-1.04.2-1.43.59L10.3 9.45l-7.72 7.72c-.78.78-.78 2.05 0 2.83L4 21.41c.39.39.9.59 1.41.59.51 0 1.02-.2 1.41-.59l7.78-7.78 2.81-2.81c.8-.78.8-2.07 0-2.86zM5.41 20L4 18.59l7.72-7.72 1.47 1.35L5.41 20z\"/>\n",
              "  </svg>\n",
              "      </button>\n",
              "      \n",
              "  <style>\n",
              "    .colab-df-container {\n",
              "      display:flex;\n",
              "      flex-wrap:wrap;\n",
              "      gap: 12px;\n",
              "    }\n",
              "\n",
              "    .colab-df-convert {\n",
              "      background-color: #E8F0FE;\n",
              "      border: none;\n",
              "      border-radius: 50%;\n",
              "      cursor: pointer;\n",
              "      display: none;\n",
              "      fill: #1967D2;\n",
              "      height: 32px;\n",
              "      padding: 0 0 0 0;\n",
              "      width: 32px;\n",
              "    }\n",
              "\n",
              "    .colab-df-convert:hover {\n",
              "      background-color: #E2EBFA;\n",
              "      box-shadow: 0px 1px 2px rgba(60, 64, 67, 0.3), 0px 1px 3px 1px rgba(60, 64, 67, 0.15);\n",
              "      fill: #174EA6;\n",
              "    }\n",
              "\n",
              "    [theme=dark] .colab-df-convert {\n",
              "      background-color: #3B4455;\n",
              "      fill: #D2E3FC;\n",
              "    }\n",
              "\n",
              "    [theme=dark] .colab-df-convert:hover {\n",
              "      background-color: #434B5C;\n",
              "      box-shadow: 0px 1px 3px 1px rgba(0, 0, 0, 0.15);\n",
              "      filter: drop-shadow(0px 1px 2px rgba(0, 0, 0, 0.3));\n",
              "      fill: #FFFFFF;\n",
              "    }\n",
              "  </style>\n",
              "\n",
              "      <script>\n",
              "        const buttonEl =\n",
              "          document.querySelector('#df-c9552525-c63b-4011-b483-0a1addc661ee button.colab-df-convert');\n",
              "        buttonEl.style.display =\n",
              "          google.colab.kernel.accessAllowed ? 'block' : 'none';\n",
              "\n",
              "        async function convertToInteractive(key) {\n",
              "          const element = document.querySelector('#df-c9552525-c63b-4011-b483-0a1addc661ee');\n",
              "          const dataTable =\n",
              "            await google.colab.kernel.invokeFunction('convertToInteractive',\n",
              "                                                     [key], {});\n",
              "          if (!dataTable) return;\n",
              "\n",
              "          const docLinkHtml = 'Like what you see? Visit the ' +\n",
              "            '<a target=\"_blank\" href=https://colab.research.google.com/notebooks/data_table.ipynb>data table notebook</a>'\n",
              "            + ' to learn more about interactive tables.';\n",
              "          element.innerHTML = '';\n",
              "          dataTable['output_type'] = 'display_data';\n",
              "          await google.colab.output.renderOutput(dataTable, element);\n",
              "          const docLink = document.createElement('div');\n",
              "          docLink.innerHTML = docLinkHtml;\n",
              "          element.appendChild(docLink);\n",
              "        }\n",
              "      </script>\n",
              "    </div>\n",
              "  </div>\n",
              "  "
            ],
            "text/plain": [
              "   Age Sex      BP Cholesterol  Na_to_K   Drug\n",
              "0   23   F    HIGH        HIGH   25.355  DrugY\n",
              "1   47   M     LOW        HIGH   13.093  drugC\n",
              "2   47   M     LOW        HIGH   10.114  drugC\n",
              "3   28   F  NORMAL        HIGH    7.798  drugX\n",
              "4   61   F     LOW        HIGH   18.043  DrugY"
            ]
          },
          "metadata": {},
          "execution_count": 168
        }
      ]
    },
    {
      "cell_type": "markdown",
      "source": [
        "## Exploratory Analysis"
      ],
      "metadata": {
        "id": "X57brnLsJ0In"
      }
    },
    {
      "cell_type": "markdown",
      "source": [
        "### Verifying the dataset"
      ],
      "metadata": {
        "id": "IljSzioAJ9tg"
      }
    },
    {
      "cell_type": "code",
      "source": [
        "# DF rows and columns\n",
        "df.shape"
      ],
      "metadata": {
        "colab": {
          "base_uri": "https://localhost:8080/"
        },
        "id": "bIQRxXPLCw5D",
        "outputId": "2f40c815-d380-4cf1-ea14-12bd9d295b4f"
      },
      "execution_count": null,
      "outputs": [
        {
          "output_type": "execute_result",
          "data": {
            "text/plain": [
              "(200, 6)"
            ]
          },
          "metadata": {},
          "execution_count": 169
        }
      ]
    },
    {
      "cell_type": "code",
      "source": [
        "# Types & null\n",
        "df.info()"
      ],
      "metadata": {
        "colab": {
          "base_uri": "https://localhost:8080/"
        },
        "id": "SoiUgFDZNkp1",
        "outputId": "3063e894-2a79-4e83-cd64-880c14a12474"
      },
      "execution_count": null,
      "outputs": [
        {
          "output_type": "stream",
          "name": "stdout",
          "text": [
            "<class 'pandas.core.frame.DataFrame'>\n",
            "RangeIndex: 200 entries, 0 to 199\n",
            "Data columns (total 6 columns):\n",
            " #   Column       Non-Null Count  Dtype  \n",
            "---  ------       --------------  -----  \n",
            " 0   Age          200 non-null    int64  \n",
            " 1   Sex          200 non-null    object \n",
            " 2   BP           200 non-null    object \n",
            " 3   Cholesterol  200 non-null    object \n",
            " 4   Na_to_K      200 non-null    float64\n",
            " 5   Drug         200 non-null    object \n",
            "dtypes: float64(1), int64(1), object(4)\n",
            "memory usage: 9.5+ KB\n"
          ]
        }
      ]
    },
    {
      "cell_type": "code",
      "source": [
        "# Duplicated data\n",
        "df.duplicated().sum()"
      ],
      "metadata": {
        "colab": {
          "base_uri": "https://localhost:8080/"
        },
        "id": "9ooLlCLvNqDc",
        "outputId": "ecb75b87-1c83-424f-e5ff-067ab917558b"
      },
      "execution_count": null,
      "outputs": [
        {
          "output_type": "execute_result",
          "data": {
            "text/plain": [
              "0"
            ]
          },
          "metadata": {},
          "execution_count": 171
        }
      ]
    },
    {
      "cell_type": "code",
      "source": [
        "# Responses by columns \n",
        "df['BP'].unique()"
      ],
      "metadata": {
        "colab": {
          "base_uri": "https://localhost:8080/"
        },
        "id": "nyU1_WHpKLzm",
        "outputId": "544cf77f-628b-44f4-dbbe-dc6445397cf8"
      },
      "execution_count": null,
      "outputs": [
        {
          "output_type": "execute_result",
          "data": {
            "text/plain": [
              "array(['HIGH', 'LOW', 'NORMAL'], dtype=object)"
            ]
          },
          "metadata": {},
          "execution_count": 172
        }
      ]
    },
    {
      "cell_type": "code",
      "source": [
        "df['Cholesterol'].unique()"
      ],
      "metadata": {
        "colab": {
          "base_uri": "https://localhost:8080/"
        },
        "id": "5auyyL7-EH1x",
        "outputId": "0cc28be9-94d2-4059-8f02-98400b544f90"
      },
      "execution_count": null,
      "outputs": [
        {
          "output_type": "execute_result",
          "data": {
            "text/plain": [
              "array(['HIGH', 'NORMAL'], dtype=object)"
            ]
          },
          "metadata": {},
          "execution_count": 173
        }
      ]
    },
    {
      "cell_type": "code",
      "source": [
        "df['Drug'].unique()"
      ],
      "metadata": {
        "colab": {
          "base_uri": "https://localhost:8080/"
        },
        "id": "RfelSwPgKSeb",
        "outputId": "9ddc0fd2-5c77-4f3c-8837-0388d8f7688a"
      },
      "execution_count": null,
      "outputs": [
        {
          "output_type": "execute_result",
          "data": {
            "text/plain": [
              "array(['DrugY', 'drugC', 'drugX', 'drugA', 'drugB'], dtype=object)"
            ]
          },
          "metadata": {},
          "execution_count": 174
        }
      ]
    },
    {
      "cell_type": "code",
      "source": [
        "# Basic statistics\n",
        "df.describe()"
      ],
      "metadata": {
        "colab": {
          "base_uri": "https://localhost:8080/",
          "height": 361
        },
        "id": "xFZiWS3fD06r",
        "outputId": "4f0e1740-d4db-4a94-8b40-7f3f4d34b229"
      },
      "execution_count": null,
      "outputs": [
        {
          "output_type": "execute_result",
          "data": {
            "text/html": [
              "\n",
              "  <div id=\"df-b8d76b60-0050-4fd7-861b-916f299e391e\">\n",
              "    <div class=\"colab-df-container\">\n",
              "      <div>\n",
              "<style scoped>\n",
              "    .dataframe tbody tr th:only-of-type {\n",
              "        vertical-align: middle;\n",
              "    }\n",
              "\n",
              "    .dataframe tbody tr th {\n",
              "        vertical-align: top;\n",
              "    }\n",
              "\n",
              "    .dataframe thead th {\n",
              "        text-align: right;\n",
              "    }\n",
              "</style>\n",
              "<table border=\"1\" class=\"dataframe\">\n",
              "  <thead>\n",
              "    <tr style=\"text-align: right;\">\n",
              "      <th></th>\n",
              "      <th>Age</th>\n",
              "      <th>Na_to_K</th>\n",
              "    </tr>\n",
              "  </thead>\n",
              "  <tbody>\n",
              "    <tr>\n",
              "      <th>count</th>\n",
              "      <td>200.000000</td>\n",
              "      <td>200.000000</td>\n",
              "    </tr>\n",
              "    <tr>\n",
              "      <th>mean</th>\n",
              "      <td>44.315000</td>\n",
              "      <td>16.084485</td>\n",
              "    </tr>\n",
              "    <tr>\n",
              "      <th>std</th>\n",
              "      <td>16.544315</td>\n",
              "      <td>7.223956</td>\n",
              "    </tr>\n",
              "    <tr>\n",
              "      <th>min</th>\n",
              "      <td>15.000000</td>\n",
              "      <td>6.269000</td>\n",
              "    </tr>\n",
              "    <tr>\n",
              "      <th>25%</th>\n",
              "      <td>31.000000</td>\n",
              "      <td>10.445500</td>\n",
              "    </tr>\n",
              "    <tr>\n",
              "      <th>50%</th>\n",
              "      <td>45.000000</td>\n",
              "      <td>13.936500</td>\n",
              "    </tr>\n",
              "    <tr>\n",
              "      <th>75%</th>\n",
              "      <td>58.000000</td>\n",
              "      <td>19.380000</td>\n",
              "    </tr>\n",
              "    <tr>\n",
              "      <th>max</th>\n",
              "      <td>74.000000</td>\n",
              "      <td>38.247000</td>\n",
              "    </tr>\n",
              "  </tbody>\n",
              "</table>\n",
              "</div>\n",
              "      <button class=\"colab-df-convert\" onclick=\"convertToInteractive('df-b8d76b60-0050-4fd7-861b-916f299e391e')\"\n",
              "              title=\"Convert this dataframe to an interactive table.\"\n",
              "              style=\"display:none;\">\n",
              "        \n",
              "  <svg xmlns=\"http://www.w3.org/2000/svg\" height=\"24px\"viewBox=\"0 0 24 24\"\n",
              "       width=\"24px\">\n",
              "    <path d=\"M0 0h24v24H0V0z\" fill=\"none\"/>\n",
              "    <path d=\"M18.56 5.44l.94 2.06.94-2.06 2.06-.94-2.06-.94-.94-2.06-.94 2.06-2.06.94zm-11 1L8.5 8.5l.94-2.06 2.06-.94-2.06-.94L8.5 2.5l-.94 2.06-2.06.94zm10 10l.94 2.06.94-2.06 2.06-.94-2.06-.94-.94-2.06-.94 2.06-2.06.94z\"/><path d=\"M17.41 7.96l-1.37-1.37c-.4-.4-.92-.59-1.43-.59-.52 0-1.04.2-1.43.59L10.3 9.45l-7.72 7.72c-.78.78-.78 2.05 0 2.83L4 21.41c.39.39.9.59 1.41.59.51 0 1.02-.2 1.41-.59l7.78-7.78 2.81-2.81c.8-.78.8-2.07 0-2.86zM5.41 20L4 18.59l7.72-7.72 1.47 1.35L5.41 20z\"/>\n",
              "  </svg>\n",
              "      </button>\n",
              "      \n",
              "  <style>\n",
              "    .colab-df-container {\n",
              "      display:flex;\n",
              "      flex-wrap:wrap;\n",
              "      gap: 12px;\n",
              "    }\n",
              "\n",
              "    .colab-df-convert {\n",
              "      background-color: #E8F0FE;\n",
              "      border: none;\n",
              "      border-radius: 50%;\n",
              "      cursor: pointer;\n",
              "      display: none;\n",
              "      fill: #1967D2;\n",
              "      height: 32px;\n",
              "      padding: 0 0 0 0;\n",
              "      width: 32px;\n",
              "    }\n",
              "\n",
              "    .colab-df-convert:hover {\n",
              "      background-color: #E2EBFA;\n",
              "      box-shadow: 0px 1px 2px rgba(60, 64, 67, 0.3), 0px 1px 3px 1px rgba(60, 64, 67, 0.15);\n",
              "      fill: #174EA6;\n",
              "    }\n",
              "\n",
              "    [theme=dark] .colab-df-convert {\n",
              "      background-color: #3B4455;\n",
              "      fill: #D2E3FC;\n",
              "    }\n",
              "\n",
              "    [theme=dark] .colab-df-convert:hover {\n",
              "      background-color: #434B5C;\n",
              "      box-shadow: 0px 1px 3px 1px rgba(0, 0, 0, 0.15);\n",
              "      filter: drop-shadow(0px 1px 2px rgba(0, 0, 0, 0.3));\n",
              "      fill: #FFFFFF;\n",
              "    }\n",
              "  </style>\n",
              "\n",
              "      <script>\n",
              "        const buttonEl =\n",
              "          document.querySelector('#df-b8d76b60-0050-4fd7-861b-916f299e391e button.colab-df-convert');\n",
              "        buttonEl.style.display =\n",
              "          google.colab.kernel.accessAllowed ? 'block' : 'none';\n",
              "\n",
              "        async function convertToInteractive(key) {\n",
              "          const element = document.querySelector('#df-b8d76b60-0050-4fd7-861b-916f299e391e');\n",
              "          const dataTable =\n",
              "            await google.colab.kernel.invokeFunction('convertToInteractive',\n",
              "                                                     [key], {});\n",
              "          if (!dataTable) return;\n",
              "\n",
              "          const docLinkHtml = 'Like what you see? Visit the ' +\n",
              "            '<a target=\"_blank\" href=https://colab.research.google.com/notebooks/data_table.ipynb>data table notebook</a>'\n",
              "            + ' to learn more about interactive tables.';\n",
              "          element.innerHTML = '';\n",
              "          dataTable['output_type'] = 'display_data';\n",
              "          await google.colab.output.renderOutput(dataTable, element);\n",
              "          const docLink = document.createElement('div');\n",
              "          docLink.innerHTML = docLinkHtml;\n",
              "          element.appendChild(docLink);\n",
              "        }\n",
              "      </script>\n",
              "    </div>\n",
              "  </div>\n",
              "  "
            ],
            "text/plain": [
              "              Age     Na_to_K\n",
              "count  200.000000  200.000000\n",
              "mean    44.315000   16.084485\n",
              "std     16.544315    7.223956\n",
              "min     15.000000    6.269000\n",
              "25%     31.000000   10.445500\n",
              "50%     45.000000   13.936500\n",
              "75%     58.000000   19.380000\n",
              "max     74.000000   38.247000"
            ]
          },
          "metadata": {},
          "execution_count": 175
        }
      ]
    },
    {
      "cell_type": "markdown",
      "source": [
        "### Variables\n",
        "\n",
        "Categorical: Sex, BP(blood pressure), Cholesterol, Drug\n",
        "\n",
        "Continuous: Age, Na_to_K"
      ],
      "metadata": {
        "id": "yEkNXvERLYQg"
      }
    },
    {
      "cell_type": "markdown",
      "source": [
        "### Transformations"
      ],
      "metadata": {
        "id": "dA5OfjWTLvqr"
      }
    },
    {
      "cell_type": "markdown",
      "source": [
        "#### Lowercase strings"
      ],
      "metadata": {
        "id": "erYt0X2dMDls"
      }
    },
    {
      "cell_type": "code",
      "source": [
        "# Columns name\n",
        "df.columns = df.columns.str.lower()"
      ],
      "metadata": {
        "id": "uZfFa5XjL3DD"
      },
      "execution_count": null,
      "outputs": []
    },
    {
      "cell_type": "code",
      "source": [
        "# Columns data\n",
        "col = ['sex', 'bp', 'cholesterol', 'drug']"
      ],
      "metadata": {
        "id": "qzPfNx2TMga3"
      },
      "execution_count": null,
      "outputs": []
    },
    {
      "cell_type": "code",
      "source": [
        "# Lowercase transformation\n",
        "for n in col:\n",
        "  df[n] = df[n].apply(lambda x: x.lower())"
      ],
      "metadata": {
        "id": "kAPU634RLxpR"
      },
      "execution_count": null,
      "outputs": []
    },
    {
      "cell_type": "code",
      "source": [
        "# Drug essencial information\n",
        "df['drug'] = [n[-1] for n in df['drug']]"
      ],
      "metadata": {
        "id": "enG4nvBXTWsi"
      },
      "execution_count": null,
      "outputs": []
    },
    {
      "cell_type": "code",
      "source": [
        "df.head()"
      ],
      "metadata": {
        "colab": {
          "base_uri": "https://localhost:8080/",
          "height": 268
        },
        "id": "iWm9kwc_T9Im",
        "outputId": "d42dc760-fdec-4bc2-e68c-227748aeb935"
      },
      "execution_count": null,
      "outputs": [
        {
          "output_type": "execute_result",
          "data": {
            "text/html": [
              "\n",
              "  <div id=\"df-017e2bf2-e011-4466-84f3-937ae3e0f869\">\n",
              "    <div class=\"colab-df-container\">\n",
              "      <div>\n",
              "<style scoped>\n",
              "    .dataframe tbody tr th:only-of-type {\n",
              "        vertical-align: middle;\n",
              "    }\n",
              "\n",
              "    .dataframe tbody tr th {\n",
              "        vertical-align: top;\n",
              "    }\n",
              "\n",
              "    .dataframe thead th {\n",
              "        text-align: right;\n",
              "    }\n",
              "</style>\n",
              "<table border=\"1\" class=\"dataframe\">\n",
              "  <thead>\n",
              "    <tr style=\"text-align: right;\">\n",
              "      <th></th>\n",
              "      <th>age</th>\n",
              "      <th>sex</th>\n",
              "      <th>bp</th>\n",
              "      <th>cholesterol</th>\n",
              "      <th>na_to_k</th>\n",
              "      <th>drug</th>\n",
              "    </tr>\n",
              "  </thead>\n",
              "  <tbody>\n",
              "    <tr>\n",
              "      <th>0</th>\n",
              "      <td>23</td>\n",
              "      <td>f</td>\n",
              "      <td>high</td>\n",
              "      <td>high</td>\n",
              "      <td>25.355</td>\n",
              "      <td>y</td>\n",
              "    </tr>\n",
              "    <tr>\n",
              "      <th>1</th>\n",
              "      <td>47</td>\n",
              "      <td>m</td>\n",
              "      <td>low</td>\n",
              "      <td>high</td>\n",
              "      <td>13.093</td>\n",
              "      <td>c</td>\n",
              "    </tr>\n",
              "    <tr>\n",
              "      <th>2</th>\n",
              "      <td>47</td>\n",
              "      <td>m</td>\n",
              "      <td>low</td>\n",
              "      <td>high</td>\n",
              "      <td>10.114</td>\n",
              "      <td>c</td>\n",
              "    </tr>\n",
              "    <tr>\n",
              "      <th>3</th>\n",
              "      <td>28</td>\n",
              "      <td>f</td>\n",
              "      <td>normal</td>\n",
              "      <td>high</td>\n",
              "      <td>7.798</td>\n",
              "      <td>x</td>\n",
              "    </tr>\n",
              "    <tr>\n",
              "      <th>4</th>\n",
              "      <td>61</td>\n",
              "      <td>f</td>\n",
              "      <td>low</td>\n",
              "      <td>high</td>\n",
              "      <td>18.043</td>\n",
              "      <td>y</td>\n",
              "    </tr>\n",
              "  </tbody>\n",
              "</table>\n",
              "</div>\n",
              "      <button class=\"colab-df-convert\" onclick=\"convertToInteractive('df-017e2bf2-e011-4466-84f3-937ae3e0f869')\"\n",
              "              title=\"Convert this dataframe to an interactive table.\"\n",
              "              style=\"display:none;\">\n",
              "        \n",
              "  <svg xmlns=\"http://www.w3.org/2000/svg\" height=\"24px\"viewBox=\"0 0 24 24\"\n",
              "       width=\"24px\">\n",
              "    <path d=\"M0 0h24v24H0V0z\" fill=\"none\"/>\n",
              "    <path d=\"M18.56 5.44l.94 2.06.94-2.06 2.06-.94-2.06-.94-.94-2.06-.94 2.06-2.06.94zm-11 1L8.5 8.5l.94-2.06 2.06-.94-2.06-.94L8.5 2.5l-.94 2.06-2.06.94zm10 10l.94 2.06.94-2.06 2.06-.94-2.06-.94-.94-2.06-.94 2.06-2.06.94z\"/><path d=\"M17.41 7.96l-1.37-1.37c-.4-.4-.92-.59-1.43-.59-.52 0-1.04.2-1.43.59L10.3 9.45l-7.72 7.72c-.78.78-.78 2.05 0 2.83L4 21.41c.39.39.9.59 1.41.59.51 0 1.02-.2 1.41-.59l7.78-7.78 2.81-2.81c.8-.78.8-2.07 0-2.86zM5.41 20L4 18.59l7.72-7.72 1.47 1.35L5.41 20z\"/>\n",
              "  </svg>\n",
              "      </button>\n",
              "      \n",
              "  <style>\n",
              "    .colab-df-container {\n",
              "      display:flex;\n",
              "      flex-wrap:wrap;\n",
              "      gap: 12px;\n",
              "    }\n",
              "\n",
              "    .colab-df-convert {\n",
              "      background-color: #E8F0FE;\n",
              "      border: none;\n",
              "      border-radius: 50%;\n",
              "      cursor: pointer;\n",
              "      display: none;\n",
              "      fill: #1967D2;\n",
              "      height: 32px;\n",
              "      padding: 0 0 0 0;\n",
              "      width: 32px;\n",
              "    }\n",
              "\n",
              "    .colab-df-convert:hover {\n",
              "      background-color: #E2EBFA;\n",
              "      box-shadow: 0px 1px 2px rgba(60, 64, 67, 0.3), 0px 1px 3px 1px rgba(60, 64, 67, 0.15);\n",
              "      fill: #174EA6;\n",
              "    }\n",
              "\n",
              "    [theme=dark] .colab-df-convert {\n",
              "      background-color: #3B4455;\n",
              "      fill: #D2E3FC;\n",
              "    }\n",
              "\n",
              "    [theme=dark] .colab-df-convert:hover {\n",
              "      background-color: #434B5C;\n",
              "      box-shadow: 0px 1px 3px 1px rgba(0, 0, 0, 0.15);\n",
              "      filter: drop-shadow(0px 1px 2px rgba(0, 0, 0, 0.3));\n",
              "      fill: #FFFFFF;\n",
              "    }\n",
              "  </style>\n",
              "\n",
              "      <script>\n",
              "        const buttonEl =\n",
              "          document.querySelector('#df-017e2bf2-e011-4466-84f3-937ae3e0f869 button.colab-df-convert');\n",
              "        buttonEl.style.display =\n",
              "          google.colab.kernel.accessAllowed ? 'block' : 'none';\n",
              "\n",
              "        async function convertToInteractive(key) {\n",
              "          const element = document.querySelector('#df-017e2bf2-e011-4466-84f3-937ae3e0f869');\n",
              "          const dataTable =\n",
              "            await google.colab.kernel.invokeFunction('convertToInteractive',\n",
              "                                                     [key], {});\n",
              "          if (!dataTable) return;\n",
              "\n",
              "          const docLinkHtml = 'Like what you see? Visit the ' +\n",
              "            '<a target=\"_blank\" href=https://colab.research.google.com/notebooks/data_table.ipynb>data table notebook</a>'\n",
              "            + ' to learn more about interactive tables.';\n",
              "          element.innerHTML = '';\n",
              "          dataTable['output_type'] = 'display_data';\n",
              "          await google.colab.output.renderOutput(dataTable, element);\n",
              "          const docLink = document.createElement('div');\n",
              "          docLink.innerHTML = docLinkHtml;\n",
              "          element.appendChild(docLink);\n",
              "        }\n",
              "      </script>\n",
              "    </div>\n",
              "  </div>\n",
              "  "
            ],
            "text/plain": [
              "   age sex      bp cholesterol  na_to_k drug\n",
              "0   23   f    high        high   25.355    y\n",
              "1   47   m     low        high   13.093    c\n",
              "2   47   m     low        high   10.114    c\n",
              "3   28   f  normal        high    7.798    x\n",
              "4   61   f     low        high   18.043    y"
            ]
          },
          "metadata": {},
          "execution_count": 180
        }
      ]
    },
    {
      "cell_type": "markdown",
      "source": [
        "### Distribution & Balance\n",
        "\n",
        "* Imbalance categorical data\n",
        "* Age - more similar to a symmetrical distribution\n",
        "* Na to K - positive skewness | outliers seems be associated with Dug Y"
      ],
      "metadata": {
        "id": "MYa5g5wct0HT"
      }
    },
    {
      "cell_type": "code",
      "source": [
        "continuous_var = ['age', 'na_to_k']\n",
        "categorical_var = ['sex', 'bp', 'cholesterol', 'drug']"
      ],
      "metadata": {
        "id": "3GAhGfaImvns"
      },
      "execution_count": null,
      "outputs": []
    },
    {
      "cell_type": "markdown",
      "source": [
        "##### Countinous variables"
      ],
      "metadata": {
        "id": "yWaUsG2np7v-"
      }
    },
    {
      "cell_type": "code",
      "source": [
        "# General distribution | histogram for which variable\n",
        "n_rows=2\n",
        "n_cols=2\n",
        "\n",
        "## Creating subplots\n",
        "fig, axes = plt.subplots(nrows=n_rows, ncols=n_cols)\n",
        "fig.set_size_inches(15, 15)\n",
        "\n",
        "## Creating histograms\n",
        "for i, column in enumerate(continuous_var):\n",
        "  sns.histplot(df[column], ax=axes[i//n_cols,i%n_cols], bins=10,  stat=\"percent\", kde=True)\n",
        "\n",
        "plt.show()"
      ],
      "metadata": {
        "id": "2rCHHjccLKhc",
        "colab": {
          "base_uri": "https://localhost:8080/",
          "height": 54
        },
        "outputId": "0db10d1f-74bb-44c0-b48c-e506f4edef13"
      },
      "execution_count": null,
      "outputs": [
        {
          "output_type": "display_data",
          "data": {
            "image/png": "[encoded data removed]",
            "text/plain": [
              "<Figure size 1080x1080 with 4 Axes>"
            ]
          },
          "metadata": {
            "needs_background": "light"
          }
        }
      ]
    },
    {
      "cell_type": "code",
      "source": [
        "# General distribution | boxplot for which variable\n",
        "n_rows=2\n",
        "n_cols=2\n",
        "\n",
        "## Creating subplots\n",
        "fig, axes = plt.subplots(nrows=n_rows, ncols=n_cols)\n",
        "fig.set_size_inches(15, 15)\n",
        "\n",
        "## Creating boxplot\n",
        "for i, column in enumerate(continuous_var):\n",
        "  sns.boxplot(df[column], ax=axes[i//n_cols,i%n_cols])\n",
        "\n",
        "plt.show()"
      ],
      "metadata": {
        "colab": {
          "base_uri": "https://localhost:8080/",
          "height": 122
        },
        "id": "jDko4GE-mZPY",
        "outputId": "c8cade8f-1816-4b52-9e6e-1ed716dbdc12"
      },
      "execution_count": null,
      "outputs": [
        {
          "output_type": "stream",
          "name": "stderr",
          "text": [
            "/usr/local/lib/python3.7/dist-packages/seaborn/_decorators.py:43: FutureWarning: Pass the following variable as a keyword arg: x. From version 0.12, the only valid positional argument will be `data`, and passing other arguments without an explicit keyword will result in an error or misinterpretation.\n",
            "  FutureWarning\n",
            "/usr/local/lib/python3.7/dist-packages/seaborn/_decorators.py:43: FutureWarning: Pass the following variable as a keyword arg: x. From version 0.12, the only valid positional argument will be `data`, and passing other arguments without an explicit keyword will result in an error or misinterpretation.\n",
            "  FutureWarning\n"
          ]
        },
        {
          "output_type": "display_data",
          "data": {
            "image/png": "[encoded data removed]",
            "text/plain": [
              "<Figure size 1080x1080 with 4 Axes>"
            ]
          },
          "metadata": {
            "needs_background": "light"
          }
        }
      ]
    },
    {
      "cell_type": "markdown",
      "source": [
        "#### Analysing outliers\n",
        "* It seems association with drug y"
      ],
      "metadata": {
        "id": "L8hFckAn0RuD"
      }
    },
    {
      "cell_type": "code",
      "source": [
        "# analysing outliers > high na_to_k == drug Y(?)\n",
        "def outliers(df,col):\n",
        "  Q1 = df[col].quantile(0.25)\n",
        "  Q3 = df[col].quantile(0.75)\n",
        "  IQR = Q3 - Q1\n",
        "  return df[((df[col] < (Q1 - 1.5 * IQR)) | (df[col] > (Q3 + 1.5 * IQR)))]"
      ],
      "metadata": {
        "id": "TOLq-M8Eqw-5"
      },
      "execution_count": null,
      "outputs": []
    },
    {
      "cell_type": "code",
      "source": [
        "outliers(df, 'na_to_k')"
      ],
      "metadata": {
        "colab": {
          "base_uri": "https://localhost:8080/",
          "height": 361
        },
        "id": "MeOwjjJdsc01",
        "outputId": "da663202-b61d-4b55-8ed4-c86e1d4b1c3e"
      },
      "execution_count": null,
      "outputs": [
        {
          "output_type": "execute_result",
          "data": {
            "text/html": [
              "\n",
              "  <div id=\"df-36adb33c-142d-4e97-81f6-fd60749d62bb\">\n",
              "    <div class=\"colab-df-container\">\n",
              "      <div>\n",
              "<style scoped>\n",
              "    .dataframe tbody tr th:only-of-type {\n",
              "        vertical-align: middle;\n",
              "    }\n",
              "\n",
              "    .dataframe tbody tr th {\n",
              "        vertical-align: top;\n",
              "    }\n",
              "\n",
              "    .dataframe thead th {\n",
              "        text-align: right;\n",
              "    }\n",
              "</style>\n",
              "<table border=\"1\" class=\"dataframe\">\n",
              "  <thead>\n",
              "    <tr style=\"text-align: right;\">\n",
              "      <th></th>\n",
              "      <th>age</th>\n",
              "      <th>sex</th>\n",
              "      <th>bp</th>\n",
              "      <th>cholesterol</th>\n",
              "      <th>na_to_k</th>\n",
              "      <th>drug</th>\n",
              "    </tr>\n",
              "  </thead>\n",
              "  <tbody>\n",
              "    <tr>\n",
              "      <th>24</th>\n",
              "      <td>33</td>\n",
              "      <td>f</td>\n",
              "      <td>low</td>\n",
              "      <td>high</td>\n",
              "      <td>33.486</td>\n",
              "      <td>y</td>\n",
              "    </tr>\n",
              "    <tr>\n",
              "      <th>96</th>\n",
              "      <td>58</td>\n",
              "      <td>f</td>\n",
              "      <td>low</td>\n",
              "      <td>high</td>\n",
              "      <td>38.247</td>\n",
              "      <td>y</td>\n",
              "    </tr>\n",
              "    <tr>\n",
              "      <th>98</th>\n",
              "      <td>20</td>\n",
              "      <td>m</td>\n",
              "      <td>high</td>\n",
              "      <td>normal</td>\n",
              "      <td>35.639</td>\n",
              "      <td>y</td>\n",
              "    </tr>\n",
              "    <tr>\n",
              "      <th>128</th>\n",
              "      <td>47</td>\n",
              "      <td>m</td>\n",
              "      <td>low</td>\n",
              "      <td>normal</td>\n",
              "      <td>33.542</td>\n",
              "      <td>y</td>\n",
              "    </tr>\n",
              "    <tr>\n",
              "      <th>131</th>\n",
              "      <td>52</td>\n",
              "      <td>m</td>\n",
              "      <td>low</td>\n",
              "      <td>normal</td>\n",
              "      <td>32.922</td>\n",
              "      <td>y</td>\n",
              "    </tr>\n",
              "    <tr>\n",
              "      <th>184</th>\n",
              "      <td>18</td>\n",
              "      <td>f</td>\n",
              "      <td>high</td>\n",
              "      <td>high</td>\n",
              "      <td>37.188</td>\n",
              "      <td>y</td>\n",
              "    </tr>\n",
              "    <tr>\n",
              "      <th>188</th>\n",
              "      <td>65</td>\n",
              "      <td>m</td>\n",
              "      <td>high</td>\n",
              "      <td>normal</td>\n",
              "      <td>34.997</td>\n",
              "      <td>y</td>\n",
              "    </tr>\n",
              "    <tr>\n",
              "      <th>194</th>\n",
              "      <td>46</td>\n",
              "      <td>f</td>\n",
              "      <td>high</td>\n",
              "      <td>high</td>\n",
              "      <td>34.686</td>\n",
              "      <td>y</td>\n",
              "    </tr>\n",
              "  </tbody>\n",
              "</table>\n",
              "</div>\n",
              "      <button class=\"colab-df-convert\" onclick=\"convertToInteractive('df-36adb33c-142d-4e97-81f6-fd60749d62bb')\"\n",
              "              title=\"Convert this dataframe to an interactive table.\"\n",
              "              style=\"display:none;\">\n",
              "        \n",
              "  <svg xmlns=\"http://www.w3.org/2000/svg\" height=\"24px\"viewBox=\"0 0 24 24\"\n",
              "       width=\"24px\">\n",
              "    <path d=\"M0 0h24v24H0V0z\" fill=\"none\"/>\n",
              "    <path d=\"M18.56 5.44l.94 2.06.94-2.06 2.06-.94-2.06-.94-.94-2.06-.94 2.06-2.06.94zm-11 1L8.5 8.5l.94-2.06 2.06-.94-2.06-.94L8.5 2.5l-.94 2.06-2.06.94zm10 10l.94 2.06.94-2.06 2.06-.94-2.06-.94-.94-2.06-.94 2.06-2.06.94z\"/><path d=\"M17.41 7.96l-1.37-1.37c-.4-.4-.92-.59-1.43-.59-.52 0-1.04.2-1.43.59L10.3 9.45l-7.72 7.72c-.78.78-.78 2.05 0 2.83L4 21.41c.39.39.9.59 1.41.59.51 0 1.02-.2 1.41-.59l7.78-7.78 2.81-2.81c.8-.78.8-2.07 0-2.86zM5.41 20L4 18.59l7.72-7.72 1.47 1.35L5.41 20z\"/>\n",
              "  </svg>\n",
              "      </button>\n",
              "      \n",
              "  <style>\n",
              "    .colab-df-container {\n",
              "      display:flex;\n",
              "      flex-wrap:wrap;\n",
              "      gap: 12px;\n",
              "    }\n",
              "\n",
              "    .colab-df-convert {\n",
              "      background-color: #E8F0FE;\n",
              "      border: none;\n",
              "      border-radius: 50%;\n",
              "      cursor: pointer;\n",
              "      display: none;\n",
              "      fill: #1967D2;\n",
              "      height: 32px;\n",
              "      padding: 0 0 0 0;\n",
              "      width: 32px;\n",
              "    }\n",
              "\n",
              "    .colab-df-convert:hover {\n",
              "      background-color: #E2EBFA;\n",
              "      box-shadow: 0px 1px 2px rgba(60, 64, 67, 0.3), 0px 1px 3px 1px rgba(60, 64, 67, 0.15);\n",
              "      fill: #174EA6;\n",
              "    }\n",
              "\n",
              "    [theme=dark] .colab-df-convert {\n",
              "      background-color: #3B4455;\n",
              "      fill: #D2E3FC;\n",
              "    }\n",
              "\n",
              "    [theme=dark] .colab-df-convert:hover {\n",
              "      background-color: #434B5C;\n",
              "      box-shadow: 0px 1px 3px 1px rgba(0, 0, 0, 0.15);\n",
              "      filter: drop-shadow(0px 1px 2px rgba(0, 0, 0, 0.3));\n",
              "      fill: #FFFFFF;\n",
              "    }\n",
              "  </style>\n",
              "\n",
              "      <script>\n",
              "        const buttonEl =\n",
              "          document.querySelector('#df-36adb33c-142d-4e97-81f6-fd60749d62bb button.colab-df-convert');\n",
              "        buttonEl.style.display =\n",
              "          google.colab.kernel.accessAllowed ? 'block' : 'none';\n",
              "\n",
              "        async function convertToInteractive(key) {\n",
              "          const element = document.querySelector('#df-36adb33c-142d-4e97-81f6-fd60749d62bb');\n",
              "          const dataTable =\n",
              "            await google.colab.kernel.invokeFunction('convertToInteractive',\n",
              "                                                     [key], {});\n",
              "          if (!dataTable) return;\n",
              "\n",
              "          const docLinkHtml = 'Like what you see? Visit the ' +\n",
              "            '<a target=\"_blank\" href=https://colab.research.google.com/notebooks/data_table.ipynb>data table notebook</a>'\n",
              "            + ' to learn more about interactive tables.';\n",
              "          element.innerHTML = '';\n",
              "          dataTable['output_type'] = 'display_data';\n",
              "          await google.colab.output.renderOutput(dataTable, element);\n",
              "          const docLink = document.createElement('div');\n",
              "          docLink.innerHTML = docLinkHtml;\n",
              "          element.appendChild(docLink);\n",
              "        }\n",
              "      </script>\n",
              "    </div>\n",
              "  </div>\n",
              "  "
            ],
            "text/plain": [
              "     age sex    bp cholesterol  na_to_k drug\n",
              "24    33   f   low        high   33.486    y\n",
              "96    58   f   low        high   38.247    y\n",
              "98    20   m  high      normal   35.639    y\n",
              "128   47   m   low      normal   33.542    y\n",
              "131   52   m   low      normal   32.922    y\n",
              "184   18   f  high        high   37.188    y\n",
              "188   65   m  high      normal   34.997    y\n",
              "194   46   f  high        high   34.686    y"
            ]
          },
          "metadata": {},
          "execution_count": 185
        }
      ]
    },
    {
      "cell_type": "markdown",
      "source": [
        "#### Categorical variables"
      ],
      "metadata": {
        "id": "LC5jRoA7qD9T"
      }
    },
    {
      "cell_type": "code",
      "source": [
        "# General distribution | countplot for which variable\n",
        "n_rows=2\n",
        "n_cols=2\n",
        "\n",
        "## Creating subplots\n",
        "fig, axes = plt.subplots(nrows=n_rows, ncols=n_cols)\n",
        "fig.set_size_inches(15, 15)\n",
        "\n",
        "## Creating boxplot\n",
        "for i, column in enumerate(categorical_var):\n",
        "  sns.countplot(df[column], ax=axes[i//n_cols,i%n_cols])\n",
        "\n",
        "plt.show()"
      ],
      "metadata": {
        "colab": {
          "base_uri": "https://localhost:8080/",
          "height": 190
        },
        "id": "4ijycwTQqKhE",
        "outputId": "cf6b0444-55f3-462d-adac-bb4ddc32d7ab"
      },
      "execution_count": null,
      "outputs": [
        {
          "output_type": "stream",
          "name": "stderr",
          "text": [
            "/usr/local/lib/python3.7/dist-packages/seaborn/_decorators.py:43: FutureWarning: Pass the following variable as a keyword arg: x. From version 0.12, the only valid positional argument will be `data`, and passing other arguments without an explicit keyword will result in an error or misinterpretation.\n",
            "  FutureWarning\n",
            "/usr/local/lib/python3.7/dist-packages/seaborn/_decorators.py:43: FutureWarning: Pass the following variable as a keyword arg: x. From version 0.12, the only valid positional argument will be `data`, and passing other arguments without an explicit keyword will result in an error or misinterpretation.\n",
            "  FutureWarning\n",
            "/usr/local/lib/python3.7/dist-packages/seaborn/_decorators.py:43: FutureWarning: Pass the following variable as a keyword arg: x. From version 0.12, the only valid positional argument will be `data`, and passing other arguments without an explicit keyword will result in an error or misinterpretation.\n",
            "  FutureWarning\n",
            "/usr/local/lib/python3.7/dist-packages/seaborn/_decorators.py:43: FutureWarning: Pass the following variable as a keyword arg: x. From version 0.12, the only valid positional argument will be `data`, and passing other arguments without an explicit keyword will result in an error or misinterpretation.\n",
            "  FutureWarning\n"
          ]
        },
        {
          "output_type": "display_data",
          "data": {
            "image/png": "[encoded data removed]",
            "text/plain": [
              "<Figure size 1080x1080 with 4 Axes>"
            ]
          },
          "metadata": {
            "needs_background": "light"
          }
        }
      ]
    },
    {
      "cell_type": "markdown",
      "source": [
        "### Insights"
      ],
      "metadata": {
        "id": "bQswJUb7NzvA"
      }
    },
    {
      "cell_type": "markdown",
      "source": [
        "#### Association between features and target\n",
        "              || Drug A | Drug B | Drug C | Drug X | Drug Y |\n",
        "\n",
        "      |  Age  ||  < 50  |  > 50  |        |        |        |\n",
        "      |  Sex  ||        |        |        |        |        |\n",
        "      |  BP   ||  high  |  high  |  low   |norm/low|        |\n",
        "      |  Chol ||        |        |  high  |        |        |\n",
        "      |  Na_K ||  < 15  |  < 15  |  < 15  |  < 15  |  > 15  |\n"
      ],
      "metadata": {
        "id": "YGeSUqT0SqJE"
      }
    },
    {
      "cell_type": "code",
      "source": [
        "### FAZER BOXPLOT, violino"
      ],
      "metadata": {
        "id": "poJ8v9-We3ng"
      },
      "execution_count": null,
      "outputs": []
    },
    {
      "cell_type": "code",
      "source": [
        "# General distribution\n",
        "n_rows=4\n",
        "n_cols=2\n",
        "\n",
        "## Subplots\n",
        "fig, axs = plt.subplots(nrows=n_rows, ncols=n_cols)\n",
        "fig.set_size_inches(20, 20)\n",
        "\n",
        "## y = age | sex\n",
        "sns.scatterplot(x='drug',y='age',hue='sex',data=df, ax=axs[0, 0])\n",
        "axs[0,0].set_title('Age Insight')\n",
        "\n",
        "## y = age | blood pressure\n",
        "sns.scatterplot(x='drug',y='age',hue='bp',data=df, ax=axs[0, 1])\n",
        "axs[0,1].set_title('Blood Pressure Insight')\n",
        "\n",
        "## y = age | cholesterol\n",
        "sns.scatterplot(x='drug',y='age',hue='cholesterol',data=df, ax=axs[1, 0])\n",
        "axs[1,0].set_title('Cholesterol Insight')\n",
        "\n",
        "## y = age | na_to_k\n",
        "sns.scatterplot(x='drug',y='age',hue='na_to_k',data=df, ax=axs[1, 1])\n",
        "axs[1,1].set_title('Na to K Insight')\n",
        "\n",
        "## y = Na_to_k | sex\n",
        "sns.scatterplot(x='drug',y='na_to_k',hue='sex',data=df, ax=axs[2, 0])\n",
        "axs[2,0].set_title('Na to K Insight')\n",
        "\n",
        "## y = Na_to_k | blood pressure\n",
        "sns.scatterplot(x='drug',y='na_to_k',hue='bp',data=df, ax=axs[2, 1])\n",
        "axs[2,1].set_title('Confirmation Blood Pressure Insight')\n",
        "\n",
        "## y = Na_to_k | cholesterol\n",
        "sns.scatterplot(x='drug',y='na_to_k',hue='cholesterol',data=df, ax=axs[3, 0])\n",
        "axs[3,0].set_title('Confirmation Cholesterol Insight')\n",
        "\n",
        "plt.tight_layout()\n",
        "plt.show()"
      ],
      "metadata": {
        "colab": {
          "base_uri": "https://localhost:8080/",
          "height": 54
        },
        "id": "oDXzNSQFaJ_9",
        "outputId": "297ed140-ff53-48de-8984-2c0318690de0"
      },
      "execution_count": null,
      "outputs": [
        {
          "output_type": "display_data",
          "data": {
            "image/png": "[encoded data removed]",
            "text/plain": [
              "<Figure size 1440x1440 with 8 Axes>"
            ]
          },
          "metadata": {
            "needs_background": "light"
          }
        }
      ]
    },
    {
      "cell_type": "code",
      "source": [
        "# Age frequency / drug type\n",
        "plt.figure(figsize=(15,8))\n",
        "plt.title(\"Drug Types\", fontsize=20, y=1.02)\n",
        "sns.countplot(hue = df.age, x = df.drug)\n",
        "plt.show()"
      ],
      "metadata": {
        "colab": {
          "base_uri": "https://localhost:8080/",
          "height": 54
        },
        "id": "HZIOI424pgNn",
        "outputId": "b05e7278-5a0b-48a4-e636-4b2e18d2500e"
      },
      "execution_count": null,
      "outputs": [
        {
          "output_type": "display_data",
          "data": {
            "image/png": "[encoded data removed]",
            "text/plain": [
              "<Figure size 1080x576 with 1 Axes>"
            ]
          },
          "metadata": {
            "needs_background": "light"
          }
        }
      ]
    },
    {
      "cell_type": "code",
      "source": [
        "# Sex frequency / drug type\n",
        "plt.figure(figsize=(15,8))\n",
        "plt.title(\"Drug Types\", fontsize=15, y=1.02)\n",
        "sns.countplot(x = df.sex, hue = df.drug, palette=\"hot\")\n",
        "plt.show()"
      ],
      "metadata": {
        "colab": {
          "base_uri": "https://localhost:8080/",
          "height": 54
        },
        "id": "CTdJkoB2WjGs",
        "outputId": "9556ef33-24dc-4fc0-9551-3334202cb145"
      },
      "execution_count": null,
      "outputs": [
        {
          "output_type": "display_data",
          "data": {
            "image/png": "[encoded data removed]",
            "text/plain": [
              "<Figure size 1080x576 with 1 Axes>"
            ]
          },
          "metadata": {
            "needs_background": "light"
          }
        }
      ]
    },
    {
      "cell_type": "markdown",
      "source": [
        "## Algorithm\n",
        "* The insights couldn't define at all which drug will be used based on features.\n",
        "* This is a classification problem which has as:\n",
        "  * Target: Drug\n",
        "  * Continuous features: Age and Na_to_K\n",
        "  * Categorical features: Sex, Bp, Cholesterol"
      ],
      "metadata": {
        "id": "D64PYk1NV71V"
      }
    },
    {
      "cell_type": "markdown",
      "source": [
        "#### Feature engineering\n",
        "\n",
        "* Transforming target and caterogical features with label enconder\n",
        "        |  sex  |  drug  |   bp   | cholesterol |\n",
        "      0 |   f   |    a   |  low   |    normal   |\n",
        "      1 |   m   |    b   | normal |     high    |\n",
        "      2 |       |    c   |  high  |\n",
        "      3 |       |    x   |\n",
        "      4 |       |    y   |"
      ],
      "metadata": {
        "id": "gVzY7FcA8RWK"
      }
    },
    {
      "cell_type": "code",
      "source": [
        "from sklearn.preprocessing import LabelEncoder"
      ],
      "metadata": {
        "id": "KbPMdGHb8U4c"
      },
      "execution_count": null,
      "outputs": []
    },
    {
      "cell_type": "code",
      "source": [
        "# Label enconding\n",
        "\n",
        "## Variables\n",
        "le = LabelEncoder()\n",
        "bp = ['low', 'normal', 'high'] #To define the label order\n",
        "chol = ['normal', 'high'] #To define the label order\n",
        "\n",
        "\n",
        "## Fit transform | columns sex & drug\n",
        "for c in ['sex', 'drug']:\n",
        "  df[c] = le.fit_transform(df[c])\n",
        "  \n",
        "## fit transform | column blood pressure\n",
        "le.fit(df['bp'])\n",
        "le.classes_ = np.array(bp) #Specifying the label order\n",
        "df['bp'] = le.transform(df['bp'])\n",
        "\n",
        "## fit transform | column cholesterol\n",
        "le.fit(df['cholesterol'])\n",
        "le.classes_ = np.array(chol) #Specifying the label order\n",
        "df['cholesterol'] = le.transform(df['cholesterol'])\n"
      ],
      "metadata": {
        "id": "Yljsun0f8U1c"
      },
      "execution_count": null,
      "outputs": []
    },
    {
      "cell_type": "code",
      "source": [
        "df"
      ],
      "metadata": {
        "colab": {
          "base_uri": "https://localhost:8080/",
          "height": 483
        },
        "id": "bIMOgV_9_Vaw",
        "outputId": "35cec5ab-e158-422e-c869-3a3a4e99688f"
      },
      "execution_count": null,
      "outputs": [
        {
          "output_type": "execute_result",
          "data": {
            "text/html": [
              "\n",
              "  <div id=\"df-140fb2a6-727d-4938-95fe-9bbaddf5301a\">\n",
              "    <div class=\"colab-df-container\">\n",
              "      <div>\n",
              "<style scoped>\n",
              "    .dataframe tbody tr th:only-of-type {\n",
              "        vertical-align: middle;\n",
              "    }\n",
              "\n",
              "    .dataframe tbody tr th {\n",
              "        vertical-align: top;\n",
              "    }\n",
              "\n",
              "    .dataframe thead th {\n",
              "        text-align: right;\n",
              "    }\n",
              "</style>\n",
              "<table border=\"1\" class=\"dataframe\">\n",
              "  <thead>\n",
              "    <tr style=\"text-align: right;\">\n",
              "      <th></th>\n",
              "      <th>age</th>\n",
              "      <th>sex</th>\n",
              "      <th>bp</th>\n",
              "      <th>cholesterol</th>\n",
              "      <th>na_to_k</th>\n",
              "      <th>drug</th>\n",
              "    </tr>\n",
              "  </thead>\n",
              "  <tbody>\n",
              "    <tr>\n",
              "      <th>0</th>\n",
              "      <td>23</td>\n",
              "      <td>0</td>\n",
              "      <td>2</td>\n",
              "      <td>1</td>\n",
              "      <td>25.355</td>\n",
              "      <td>4</td>\n",
              "    </tr>\n",
              "    <tr>\n",
              "      <th>1</th>\n",
              "      <td>47</td>\n",
              "      <td>1</td>\n",
              "      <td>0</td>\n",
              "      <td>1</td>\n",
              "      <td>13.093</td>\n",
              "      <td>2</td>\n",
              "    </tr>\n",
              "    <tr>\n",
              "      <th>2</th>\n",
              "      <td>47</td>\n",
              "      <td>1</td>\n",
              "      <td>0</td>\n",
              "      <td>1</td>\n",
              "      <td>10.114</td>\n",
              "      <td>2</td>\n",
              "    </tr>\n",
              "    <tr>\n",
              "      <th>3</th>\n",
              "      <td>28</td>\n",
              "      <td>0</td>\n",
              "      <td>1</td>\n",
              "      <td>1</td>\n",
              "      <td>7.798</td>\n",
              "      <td>3</td>\n",
              "    </tr>\n",
              "    <tr>\n",
              "      <th>4</th>\n",
              "      <td>61</td>\n",
              "      <td>0</td>\n",
              "      <td>0</td>\n",
              "      <td>1</td>\n",
              "      <td>18.043</td>\n",
              "      <td>4</td>\n",
              "    </tr>\n",
              "    <tr>\n",
              "      <th>...</th>\n",
              "      <td>...</td>\n",
              "      <td>...</td>\n",
              "      <td>...</td>\n",
              "      <td>...</td>\n",
              "      <td>...</td>\n",
              "      <td>...</td>\n",
              "    </tr>\n",
              "    <tr>\n",
              "      <th>195</th>\n",
              "      <td>56</td>\n",
              "      <td>0</td>\n",
              "      <td>0</td>\n",
              "      <td>1</td>\n",
              "      <td>11.567</td>\n",
              "      <td>2</td>\n",
              "    </tr>\n",
              "    <tr>\n",
              "      <th>196</th>\n",
              "      <td>16</td>\n",
              "      <td>1</td>\n",
              "      <td>0</td>\n",
              "      <td>1</td>\n",
              "      <td>12.006</td>\n",
              "      <td>2</td>\n",
              "    </tr>\n",
              "    <tr>\n",
              "      <th>197</th>\n",
              "      <td>52</td>\n",
              "      <td>1</td>\n",
              "      <td>1</td>\n",
              "      <td>1</td>\n",
              "      <td>9.894</td>\n",
              "      <td>3</td>\n",
              "    </tr>\n",
              "    <tr>\n",
              "      <th>198</th>\n",
              "      <td>23</td>\n",
              "      <td>1</td>\n",
              "      <td>1</td>\n",
              "      <td>0</td>\n",
              "      <td>14.020</td>\n",
              "      <td>3</td>\n",
              "    </tr>\n",
              "    <tr>\n",
              "      <th>199</th>\n",
              "      <td>40</td>\n",
              "      <td>0</td>\n",
              "      <td>0</td>\n",
              "      <td>0</td>\n",
              "      <td>11.349</td>\n",
              "      <td>3</td>\n",
              "    </tr>\n",
              "  </tbody>\n",
              "</table>\n",
              "<p>200 rows × 6 columns</p>\n",
              "</div>\n",
              "      <button class=\"colab-df-convert\" onclick=\"convertToInteractive('df-140fb2a6-727d-4938-95fe-9bbaddf5301a')\"\n",
              "              title=\"Convert this dataframe to an interactive table.\"\n",
              "              style=\"display:none;\">\n",
              "        \n",
              "  <svg xmlns=\"http://www.w3.org/2000/svg\" height=\"24px\"viewBox=\"0 0 24 24\"\n",
              "       width=\"24px\">\n",
              "    <path d=\"M0 0h24v24H0V0z\" fill=\"none\"/>\n",
              "    <path d=\"M18.56 5.44l.94 2.06.94-2.06 2.06-.94-2.06-.94-.94-2.06-.94 2.06-2.06.94zm-11 1L8.5 8.5l.94-2.06 2.06-.94-2.06-.94L8.5 2.5l-.94 2.06-2.06.94zm10 10l.94 2.06.94-2.06 2.06-.94-2.06-.94-.94-2.06-.94 2.06-2.06.94z\"/><path d=\"M17.41 7.96l-1.37-1.37c-.4-.4-.92-.59-1.43-.59-.52 0-1.04.2-1.43.59L10.3 9.45l-7.72 7.72c-.78.78-.78 2.05 0 2.83L4 21.41c.39.39.9.59 1.41.59.51 0 1.02-.2 1.41-.59l7.78-7.78 2.81-2.81c.8-.78.8-2.07 0-2.86zM5.41 20L4 18.59l7.72-7.72 1.47 1.35L5.41 20z\"/>\n",
              "  </svg>\n",
              "      </button>\n",
              "      \n",
              "  <style>\n",
              "    .colab-df-container {\n",
              "      display:flex;\n",
              "      flex-wrap:wrap;\n",
              "      gap: 12px;\n",
              "    }\n",
              "\n",
              "    .colab-df-convert {\n",
              "      background-color: #E8F0FE;\n",
              "      border: none;\n",
              "      border-radius: 50%;\n",
              "      cursor: pointer;\n",
              "      display: none;\n",
              "      fill: #1967D2;\n",
              "      height: 32px;\n",
              "      padding: 0 0 0 0;\n",
              "      width: 32px;\n",
              "    }\n",
              "\n",
              "    .colab-df-convert:hover {\n",
              "      background-color: #E2EBFA;\n",
              "      box-shadow: 0px 1px 2px rgba(60, 64, 67, 0.3), 0px 1px 3px 1px rgba(60, 64, 67, 0.15);\n",
              "      fill: #174EA6;\n",
              "    }\n",
              "\n",
              "    [theme=dark] .colab-df-convert {\n",
              "      background-color: #3B4455;\n",
              "      fill: #D2E3FC;\n",
              "    }\n",
              "\n",
              "    [theme=dark] .colab-df-convert:hover {\n",
              "      background-color: #434B5C;\n",
              "      box-shadow: 0px 1px 3px 1px rgba(0, 0, 0, 0.15);\n",
              "      filter: drop-shadow(0px 1px 2px rgba(0, 0, 0, 0.3));\n",
              "      fill: #FFFFFF;\n",
              "    }\n",
              "  </style>\n",
              "\n",
              "      <script>\n",
              "        const buttonEl =\n",
              "          document.querySelector('#df-140fb2a6-727d-4938-95fe-9bbaddf5301a button.colab-df-convert');\n",
              "        buttonEl.style.display =\n",
              "          google.colab.kernel.accessAllowed ? 'block' : 'none';\n",
              "\n",
              "        async function convertToInteractive(key) {\n",
              "          const element = document.querySelector('#df-140fb2a6-727d-4938-95fe-9bbaddf5301a');\n",
              "          const dataTable =\n",
              "            await google.colab.kernel.invokeFunction('convertToInteractive',\n",
              "                                                     [key], {});\n",
              "          if (!dataTable) return;\n",
              "\n",
              "          const docLinkHtml = 'Like what you see? Visit the ' +\n",
              "            '<a target=\"_blank\" href=https://colab.research.google.com/notebooks/data_table.ipynb>data table notebook</a>'\n",
              "            + ' to learn more about interactive tables.';\n",
              "          element.innerHTML = '';\n",
              "          dataTable['output_type'] = 'display_data';\n",
              "          await google.colab.output.renderOutput(dataTable, element);\n",
              "          const docLink = document.createElement('div');\n",
              "          docLink.innerHTML = docLinkHtml;\n",
              "          element.appendChild(docLink);\n",
              "        }\n",
              "      </script>\n",
              "    </div>\n",
              "  </div>\n",
              "  "
            ],
            "text/plain": [
              "     age  sex  bp  cholesterol  na_to_k  drug\n",
              "0     23    0   2            1   25.355     4\n",
              "1     47    1   0            1   13.093     2\n",
              "2     47    1   0            1   10.114     2\n",
              "3     28    0   1            1    7.798     3\n",
              "4     61    0   0            1   18.043     4\n",
              "..   ...  ...  ..          ...      ...   ...\n",
              "195   56    0   0            1   11.567     2\n",
              "196   16    1   0            1   12.006     2\n",
              "197   52    1   1            1    9.894     3\n",
              "198   23    1   1            0   14.020     3\n",
              "199   40    0   0            0   11.349     3\n",
              "\n",
              "[200 rows x 6 columns]"
            ]
          },
          "metadata": {},
          "execution_count": 193
        }
      ]
    },
    {
      "cell_type": "markdown",
      "source": [
        "### Creating the scenarios"
      ],
      "metadata": {
        "id": "mt1xdep9koyO"
      }
    },
    {
      "cell_type": "markdown",
      "source": [
        "Dúvida:\n",
        "\n",
        "Como utilizar **args nessa situação e conseguir gerar os for? \n",
        "fazer um loop for para rodar cada arg?"
      ],
      "metadata": {
        "id": "Rw-66G-ZrGQN"
      }
    },
    {
      "cell_type": "code",
      "source": [
        "def create_scenarios(features, scalling, outlier, rebalance, algorithm):\n",
        "  ''' It combines de list of strings from variables to create \n",
        "  differents scenarios to run de model.\n",
        "  Input: variables separated by coma. Each variable contains a list of strings.\n",
        "        if there are no situation in some variable, insert 'none'. \n",
        "  Output: a variable called 'scenarios' which contains a list of dictionary. '''\n",
        "\n",
        "  # Creating scenarios/combinations\n",
        "  global scenarios \n",
        "  scenarios = []\n",
        "  for f in features:\n",
        "    for o in outlier:\n",
        "      for s in scalling:\n",
        "        for r in rebalance:\n",
        "          for a in algorithm:\n",
        "              scenario = {'features': f,\n",
        "                          'outlier': o, \n",
        "                          'scalling': s,\n",
        "                          'rebalance': r,\n",
        "                          'algorithm': a,\n",
        "                          }\n",
        "              scenarios.append(scenario)\n",
        "  print(f'There are {len(scenarios)} possible scenarios.')"
      ],
      "metadata": {
        "id": "CXuXiDBWpxUm"
      },
      "execution_count": null,
      "outputs": []
    },
    {
      "cell_type": "markdown",
      "source": [
        "Teste | OK"
      ],
      "metadata": {
        "id": "7KK9A8DwvGCu"
      }
    },
    {
      "cell_type": "code",
      "source": [
        "# Defining variables\n",
        "features = ['continuous', 'categorical', 'all']\n",
        "outlier = ['none']\n",
        "scalling = ['none', 'robust', 'z-score']\n",
        "rebalance = ['none', 'smote']\n",
        "algorithm = ['dummie', 'logistic', 'knn', 'tree_clas']"
      ],
      "metadata": {
        "id": "1zWtEvfVpxQu"
      },
      "execution_count": null,
      "outputs": []
    },
    {
      "cell_type": "code",
      "source": [
        "create_scenarios(features, outlier, scalling, rebalance, algorithm)"
      ],
      "metadata": {
        "colab": {
          "base_uri": "https://localhost:8080/"
        },
        "id": "9QMzXUTkpxMr",
        "outputId": "cbd09173-f522-4e3a-90be-300eeee19c64"
      },
      "execution_count": null,
      "outputs": [
        {
          "output_type": "stream",
          "name": "stdout",
          "text": [
            "There are 72 possible scenarios.\n"
          ]
        }
      ]
    },
    {
      "cell_type": "markdown",
      "source": [
        "### Defining models function\n",
        "\n",
        "* rever SMOTE\n",
        "* Transformar em classe"
      ],
      "metadata": {
        "id": "oP3fnmCDvcU1"
      }
    },
    {
      "cell_type": "code",
      "source": [
        "# Variables\n",
        "continuous = ['age', 'na_to_k', 'drug']\n",
        "categorical = ['sex', 'bp', 'cholesterol', 'drug']"
      ],
      "metadata": {
        "id": "sLPSUW8myhC8"
      },
      "execution_count": null,
      "outputs": []
    },
    {
      "cell_type": "code",
      "source": [
        "## Defining dataset function\n",
        "\n",
        "def run_model(df, scenarios):\n",
        "  '''\n",
        "  Function to run the scenarios.\n",
        "  Input: dataframe,\n",
        "         variable 'scenarios'\n",
        "  Output: return the scenario analysed and the metrics.\n",
        "  '''\n",
        "\n",
        "  # Running each scenario\n",
        "  for scenario in scenarios:  \n",
        "    if scenario['features'] == 'continuous':\n",
        "      dft = df[continuous]\n",
        "      print('Features are continuous data')\n",
        "    elif scenario['features'] == 'categorical':\n",
        "      dft = df[categorical]\n",
        "      print('Features are categorical data')\n",
        "    elif scenario['features'] == 'all':\n",
        "      dft = df\n",
        "      print('Features are continuous & categorical data')\n",
        "    else:\n",
        "      print('Passed the features')\n",
        "    print('='*40)\n",
        "    ## Split train & test0\n",
        "    X = dft.drop(columns = 'drug')\n",
        "    y = dft[['drug']]\n",
        "    X_train, X_test, y_train, y_test = train_test_split(X, y, test_size=0.2)\n",
        "    # Size confirmation\n",
        "    print(f'Dataframe    X_train    y_train    X_test    y_test')\n",
        "    print(f'{dft.shape} == {X_train.shape} + {y_train.shape} + {X_test.shape} + {y_test.shape}')\n",
        "    print('='*40)\n",
        "    ## outliers\n",
        "    if scenario['outlier'] == 'none':\n",
        "      pass\n",
        "      print('Data without Outliers treatment')\n",
        "    elif scenario['outlier'] == 'IQR':\n",
        "      _ = [X_train, X_test]\n",
        "      for df in _:\n",
        "        for col in df[continuous_var]:\n",
        "          Q1 = df[col].quantile(0.25)\n",
        "          Q3 = df[col].quantile(0.75)\n",
        "          IQR = Q3 - Q1\n",
        "          df[col] = df[~((df[col] < (Q1 - 1.5 * IQR)) | (df[col] > (Q3 + 1.5 * IQR)))]\n",
        "      print('Outliers removed by IQR')\n",
        "    else:\n",
        "        print('Passed the outliers')\n",
        "    print('='*40)\n",
        "    ## scalling  \n",
        "    if scenario['scalling'] == 'none':\n",
        "      print('Data without scalling treatment')\n",
        "    elif scenario['scalling'] == 'robust':\n",
        "      robust = RobustScaler()\n",
        "      X_train = robust.fit_transform(X_train)\n",
        "      X_test = robust.transform(X_test)\n",
        "      print('Scaled by Robust Scaler')\n",
        "    elif scenario['scalling'] == 'z-score':\n",
        "      _ = [X_train, X_test]\n",
        "      for df in _:\n",
        "        for col in df[continuous_var]:\n",
        "          df[col] = stats.zscore(df[col])\n",
        "      print('Scaled by Z-Score')\n",
        "    else:\n",
        "      print('Passed the scalling')\n",
        "    print('='*40)\n",
        "    ## rebalance\n",
        "    if scenario['rebalance'] == 'none':\n",
        "      print('Data without rebalance')\n",
        "      pass\n",
        "    elif scenario['rebalance'] == 'smote':\n",
        "      smote = SMOTE(k_neighbors=1)\n",
        "      X_train, y_train, X_test, y_test = smote.fit_resample(X_train, y_train, X_test, y_test)\n",
        "      print('Rebalanced by SMOTE')\n",
        "    else:\n",
        "      print('Passed the rebalance')\n",
        "    print('='*40)\n",
        "    ## algorithm\n",
        "    if scenario['algorithm'] == 'dummie':\n",
        "      model = DummyClassifier()\n",
        "      model.fit(X_train, y_train)\n",
        "      y_pred = model.predict(X_test)\n",
        "      print('Dummy Algorithm')\n",
        "    elif scenario['algorithm'] == 'logistic':\n",
        "      model = LogisticRegression() \n",
        "      model.fit(X_train, y_train)\n",
        "      y_pred = model.predict(X_test)\n",
        "      print('Logistic Regression Algorithm')\n",
        "    elif scenario['algorithm'] == 'knn':\n",
        "      model = KNeighborsClassifier()\n",
        "      model.fit(X_train, y_train)\n",
        "      y_pred = model.predict(X_test)\n",
        "      print('KNN Algorithm')\n",
        "    elif scenario['algorithm'] == 'tree_clas':\n",
        "      model = DecisionTreeClassifier()\n",
        "      model.fit(X_train, y_train)\n",
        "      y_pred = model.predict(X_test)\n",
        "      print('Decision Tree Algorithm')\n",
        "    elif scenario['algorithm'] == 'random':\n",
        "      model = RandomForestClassifier()\n",
        "      model.fit(X_train, y_train)\n",
        "      y_pred = model.predict(X_test)\n",
        "      print('Random Forest Algorithm')\n",
        "    else:\n",
        "      print('Passed the algorithm')\n",
        "    print('='*40)\n",
        "    global results\n",
        "    results = [{'Accuracy': accuracy_score(y_test, y_pred), \n",
        "                'Precision': precision_score(y_test, y_pred, average='weighted'),\n",
        "                'Recall:': recall_score(y_test, y_pred, average='weighted'),\n",
        "                'F1-score:': f1_score(y_test, y_pred, average='weighted')}]\n",
        "    return results\n"
      ],
      "metadata": {
        "id": "QN40C7JalNQW"
      },
      "execution_count": null,
      "outputs": []
    },
    {
      "cell_type": "code",
      "source": [
        "run_model(df,scenarios)"
      ],
      "metadata": {
        "colab": {
          "base_uri": "https://localhost:8080/"
        },
        "id": "jRMyd61xNcIK",
        "outputId": "13aaf6a3-f978-4509-e8b1-31e351065747"
      },
      "execution_count": null,
      "outputs": [
        {
          "output_type": "stream",
          "name": "stdout",
          "text": [
            "Features are continuous data\n",
            "========================================\n",
            "Dataframe    X_train    y_train    X_test    y_test\n",
            "(200, 3) == (160, 2) + (160, 1) + (40, 2) + (40, 1)\n",
            "========================================\n",
            "Data without Outliers treatment\n",
            "========================================\n",
            "Data without scalling treatment\n",
            "========================================\n",
            "Data without rebalance\n",
            "========================================\n",
            "Dummy Algorithm\n",
            "========================================\n"
          ]
        },
        {
          "output_type": "stream",
          "name": "stderr",
          "text": [
            "/usr/local/lib/python3.7/dist-packages/sklearn/metrics/_classification.py:1318: UndefinedMetricWarning: Precision is ill-defined and being set to 0.0 in labels with no predicted samples. Use `zero_division` parameter to control this behavior.\n",
            "  _warn_prf(average, modifier, msg_start, len(result))\n"
          ]
        },
        {
          "output_type": "execute_result",
          "data": {
            "text/plain": [
              "[{'Accuracy': 0.375,\n",
              "  'F1-score:': 0.20454545454545453,\n",
              "  'Precision': 0.140625,\n",
              "  'Recall:': 0.375}]"
            ]
          },
          "metadata": {},
          "execution_count": 238
        }
      ]
    }
  ]
}